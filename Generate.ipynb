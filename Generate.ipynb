{
 "cells": [
  {
   "cell_type": "code",
   "execution_count": 82,
   "id": "ddb4d294",
   "metadata": {},
   "outputs": [],
   "source": [
    "import pandas as pd\n",
    "\n",
    "# Your keyword list with category, word, and suggestion\n",
    "df_keywords = pd.read_csv(\"final_bias_keywords_dataset.csv\")\n",
    "df_keywords.dropna(subset=[\"word\", \"category\", \"suggestion\"], inplace=True)\n",
    "\n",
    "# Bias training data\n",
    "df_train = pd.read_csv(\"bias_dataset_with_keywords.csv\")\n",
    "df_train = df_train[[\"text\", \"label\"]].dropna()\n"
   ]
  },
  {
   "cell_type": "code",
   "execution_count": 83,
   "id": "91aa8a59",
   "metadata": {},
   "outputs": [],
   "source": [
    "import re\n",
    "\n",
    "def clean_text(text):\n",
    "    return re.sub(r'[^a-zA-Z0-9\\s]', '', text).lower()\n",
    "\n",
    "df_train['text'] = df_train['text'].apply(clean_text)\n"
   ]
  },
  {
   "cell_type": "code",
   "execution_count": 85,
   "id": "99ad4e4e",
   "metadata": {},
   "outputs": [
    {
     "name": "stdout",
     "output_type": "stream",
     "text": [
      "Accuracy: 1.0\n"
     ]
    }
   ],
   "source": [
    "from sklearn.model_selection import train_test_split\n",
    "from sklearn.feature_extraction.text import TfidfVectorizer\n",
    "from sklearn.linear_model import LogisticRegression\n",
    "from sklearn.metrics import accuracy_score\n",
    "\n",
    "X_train, X_test, y_train, y_test = train_test_split(df_train['text'], df_train['label'], test_size=0.2)\n",
    "\n",
    "vectorizer = TfidfVectorizer()\n",
    "X_train_vec = vectorizer.fit_transform(X_train)\n",
    "X_test_vec = vectorizer.transform(X_test)\n",
    "\n",
    "model = LogisticRegression()\n",
    "model.fit(X_train_vec, y_train)\n",
    "\n",
    "print(\"Accuracy:\", accuracy_score(y_test, model.predict(X_test_vec)))\n"
   ]
  },
  {
   "cell_type": "code",
   "execution_count": 86,
   "id": "c78b8bc2",
   "metadata": {},
   "outputs": [],
   "source": [
    "from fuzzywuzzy import fuzz\n",
    "\n",
    "def match_fuzzy_keywords(text, bias_df, hide_categories=[]):\n",
    "    text_clean = clean_text(text)\n",
    "    results = []\n",
    "    seen = set()\n",
    "\n",
    "    for _, row in bias_df.iterrows():\n",
    "        category = str(row['category']).lower()\n",
    "        if category in [c.lower() for c in hide_categories]:\n",
    "            continue\n",
    "\n",
    "        word = str(row['word']).lower()\n",
    "        if fuzz.partial_ratio(word, text_clean) >= 85 and word not in seen:\n",
    "            seen.add(word)\n",
    "            results.append({\n",
    "                \"matched_word\": word,\n",
    "                \"original_word\": row[\"word\"],\n",
    "                \"category\": row[\"category\"],\n",
    "                \"suggestion\": row[\"suggestion\"]\n",
    "            })\n",
    "    return results\n"
   ]
  },
  {
   "cell_type": "code",
   "execution_count": 87,
   "id": "9db44f5d",
   "metadata": {},
   "outputs": [],
   "source": [
    "def predict_bias_and_keywords(text, hide_categories=[]):\n",
    "    cleaned = clean_text(text)\n",
    "    vector = vectorizer.transform([cleaned])\n",
    "    prediction = model.predict(vector)[0]\n",
    "\n",
    "    keywords = match_fuzzy_keywords(text, df_keywords, hide_categories)\n",
    "\n",
    "    print(f\"🧠 Bias Prediction: {prediction.upper()}\")\n",
    "    if keywords:\n",
    "        print(\"\\n⚠️ Bias Keywords Detected:\")\n",
    "        for item in keywords:\n",
    "            print(f\"- {item['original_word']} ({item['category']}) → Suggested: {item['suggestion']}\")\n",
    "    else:\n",
    "        print(\"✅ No bias keywords detected.\")\n"
   ]
  },
  {
   "cell_type": "code",
   "execution_count": 93,
   "id": "fcc81cd5",
   "metadata": {},
   "outputs": [
    {
     "name": "stdout",
     "output_type": "stream",
     "text": [
      "🧠 Bias Prediction: BIASED\n",
      "\n",
      "⚠️ Bias Keywords Detected:\n",
      "- aggressive (Tone) → Suggested: assertive\n"
     ]
    }
   ],
   "source": [
    "description = \"\"\"i want to hide aggressivly candidate \"\"\"\n",
    "predict_bias_and_keywords(description, hide_categories=[\"gender\"])\n"
   ]
  },
  {
   "cell_type": "code",
   "execution_count": null,
   "id": "2b2c34fe",
   "metadata": {},
   "outputs": [],
   "source": []
  }
 ],
 "metadata": {
  "kernelspec": {
   "display_name": "Python 3",
   "language": "python",
   "name": "python3"
  },
  "language_info": {
   "codemirror_mode": {
    "name": "ipython",
    "version": 3
   },
   "file_extension": ".py",
   "mimetype": "text/x-python",
   "name": "python",
   "nbconvert_exporter": "python",
   "pygments_lexer": "ipython3",
   "version": "3.13.5"
  }
 },
 "nbformat": 4,
 "nbformat_minor": 5
}
